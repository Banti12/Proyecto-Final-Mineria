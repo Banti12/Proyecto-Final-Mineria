{
  "nbformat": 4,
  "nbformat_minor": 0,
  "metadata": {
    "colab": {
      "name": "Proyecto_Final.ipynb",
      "provenance": [],
      "collapsed_sections": [],
      "toc_visible": true
    },
    "kernelspec": {
      "name": "python3",
      "display_name": "Python 3"
    },
    "language_info": {
      "name": "python"
    },
    "widgets": {
      "application/vnd.jupyter.widget-state+json": {
        "b594bb2fe12c4601805e3a867278c9bc": {
          "model_module": "@jupyter-widgets/controls",
          "model_name": "HBoxModel",
          "state": {
            "_view_name": "HBoxView",
            "_dom_classes": [],
            "_model_name": "HBoxModel",
            "_view_module": "@jupyter-widgets/controls",
            "_model_module_version": "1.5.0",
            "_view_count": null,
            "_view_module_version": "1.5.0",
            "box_style": "",
            "layout": "IPY_MODEL_1e7f0faa226b4656af2e50992d1b5d10",
            "_model_module": "@jupyter-widgets/controls",
            "children": [
              "IPY_MODEL_76115589b0f147b1b27f7375e2d8fa6a",
              "IPY_MODEL_aa90ce2ecd0f4ac88cdea5d55f828338",
              "IPY_MODEL_86cba7ec79534bd6b13c47b1bf9a535c"
            ]
          }
        },
        "1e7f0faa226b4656af2e50992d1b5d10": {
          "model_module": "@jupyter-widgets/base",
          "model_name": "LayoutModel",
          "state": {
            "_view_name": "LayoutView",
            "grid_template_rows": null,
            "right": null,
            "justify_content": null,
            "_view_module": "@jupyter-widgets/base",
            "overflow": null,
            "_model_module_version": "1.2.0",
            "_view_count": null,
            "flex_flow": "row wrap",
            "width": "100%",
            "min_width": null,
            "border": null,
            "align_items": null,
            "bottom": null,
            "_model_module": "@jupyter-widgets/base",
            "top": null,
            "grid_column": null,
            "overflow_y": null,
            "overflow_x": null,
            "grid_auto_flow": null,
            "grid_area": null,
            "grid_template_columns": null,
            "flex": null,
            "_model_name": "LayoutModel",
            "justify_items": null,
            "grid_row": null,
            "max_height": null,
            "align_content": null,
            "visibility": null,
            "align_self": null,
            "height": null,
            "min_height": null,
            "padding": null,
            "grid_auto_rows": null,
            "grid_gap": null,
            "max_width": null,
            "order": null,
            "_view_module_version": "1.2.0",
            "grid_template_areas": null,
            "object_position": null,
            "object_fit": null,
            "grid_auto_columns": null,
            "margin": null,
            "display": "inline-flex",
            "left": null
          }
        },
        "76115589b0f147b1b27f7375e2d8fa6a": {
          "model_module": "@jupyter-widgets/controls",
          "model_name": "HTMLModel",
          "state": {
            "_view_name": "HTMLView",
            "style": "IPY_MODEL_aa44758ef08645b08152d7817392872c",
            "_dom_classes": [],
            "description": "",
            "_model_name": "HTMLModel",
            "placeholder": "​",
            "_view_module": "@jupyter-widgets/controls",
            "_model_module_version": "1.5.0",
            "value": "Done! Use &#x27;show&#x27; commands to display/save.   ",
            "_view_count": null,
            "_view_module_version": "1.5.0",
            "description_tooltip": null,
            "_model_module": "@jupyter-widgets/controls",
            "layout": "IPY_MODEL_1f642ccf5a3f463da2e26d42721a0425"
          }
        },
        "aa90ce2ecd0f4ac88cdea5d55f828338": {
          "model_module": "@jupyter-widgets/controls",
          "model_name": "FloatProgressModel",
          "state": {
            "_view_name": "ProgressView",
            "style": "IPY_MODEL_e352e4f48d6c4db6b4d131dd206a1ffc",
            "_dom_classes": [],
            "description": "",
            "_model_name": "FloatProgressModel",
            "bar_style": "success",
            "max": 1,
            "_view_module": "@jupyter-widgets/controls",
            "_model_module_version": "1.5.0",
            "value": 1,
            "_view_count": null,
            "_view_module_version": "1.5.0",
            "orientation": "horizontal",
            "min": 0,
            "description_tooltip": null,
            "_model_module": "@jupyter-widgets/controls",
            "layout": "IPY_MODEL_56f560f93e854a49b10f8a1e711606ff"
          }
        },
        "86cba7ec79534bd6b13c47b1bf9a535c": {
          "model_module": "@jupyter-widgets/controls",
          "model_name": "HTMLModel",
          "state": {
            "_view_name": "HTMLView",
            "style": "IPY_MODEL_655e88ef42d14ecba783c020489fed45",
            "_dom_classes": [],
            "description": "",
            "_model_name": "HTMLModel",
            "placeholder": "​",
            "_view_module": "@jupyter-widgets/controls",
            "_model_module_version": "1.5.0",
            "value": " [100%]   00:00 -&gt; (00:00 left)",
            "_view_count": null,
            "_view_module_version": "1.5.0",
            "description_tooltip": null,
            "_model_module": "@jupyter-widgets/controls",
            "layout": "IPY_MODEL_50db44f35c3e4119acbdc1cdca961240"
          }
        },
        "aa44758ef08645b08152d7817392872c": {
          "model_module": "@jupyter-widgets/controls",
          "model_name": "DescriptionStyleModel",
          "state": {
            "_view_name": "StyleView",
            "_model_name": "DescriptionStyleModel",
            "description_width": "",
            "_view_module": "@jupyter-widgets/base",
            "_model_module_version": "1.5.0",
            "_view_count": null,
            "_view_module_version": "1.2.0",
            "_model_module": "@jupyter-widgets/controls"
          }
        },
        "1f642ccf5a3f463da2e26d42721a0425": {
          "model_module": "@jupyter-widgets/base",
          "model_name": "LayoutModel",
          "state": {
            "_view_name": "LayoutView",
            "grid_template_rows": null,
            "right": null,
            "justify_content": null,
            "_view_module": "@jupyter-widgets/base",
            "overflow": null,
            "_model_module_version": "1.2.0",
            "_view_count": null,
            "flex_flow": null,
            "width": null,
            "min_width": null,
            "border": null,
            "align_items": null,
            "bottom": null,
            "_model_module": "@jupyter-widgets/base",
            "top": null,
            "grid_column": null,
            "overflow_y": null,
            "overflow_x": null,
            "grid_auto_flow": null,
            "grid_area": null,
            "grid_template_columns": null,
            "flex": null,
            "_model_name": "LayoutModel",
            "justify_items": null,
            "grid_row": null,
            "max_height": null,
            "align_content": null,
            "visibility": null,
            "align_self": null,
            "height": null,
            "min_height": null,
            "padding": null,
            "grid_auto_rows": null,
            "grid_gap": null,
            "max_width": null,
            "order": null,
            "_view_module_version": "1.2.0",
            "grid_template_areas": null,
            "object_position": null,
            "object_fit": null,
            "grid_auto_columns": null,
            "margin": null,
            "display": null,
            "left": null
          }
        },
        "e352e4f48d6c4db6b4d131dd206a1ffc": {
          "model_module": "@jupyter-widgets/controls",
          "model_name": "ProgressStyleModel",
          "state": {
            "_view_name": "StyleView",
            "_model_name": "ProgressStyleModel",
            "description_width": "",
            "_view_module": "@jupyter-widgets/base",
            "_model_module_version": "1.5.0",
            "_view_count": null,
            "_view_module_version": "1.2.0",
            "bar_color": null,
            "_model_module": "@jupyter-widgets/controls"
          }
        },
        "56f560f93e854a49b10f8a1e711606ff": {
          "model_module": "@jupyter-widgets/base",
          "model_name": "LayoutModel",
          "state": {
            "_view_name": "LayoutView",
            "grid_template_rows": null,
            "right": null,
            "justify_content": null,
            "_view_module": "@jupyter-widgets/base",
            "overflow": null,
            "_model_module_version": "1.2.0",
            "_view_count": null,
            "flex_flow": null,
            "width": null,
            "min_width": null,
            "border": null,
            "align_items": null,
            "bottom": null,
            "_model_module": "@jupyter-widgets/base",
            "top": null,
            "grid_column": null,
            "overflow_y": null,
            "overflow_x": null,
            "grid_auto_flow": null,
            "grid_area": null,
            "grid_template_columns": null,
            "flex": "2",
            "_model_name": "LayoutModel",
            "justify_items": null,
            "grid_row": null,
            "max_height": null,
            "align_content": null,
            "visibility": null,
            "align_self": null,
            "height": null,
            "min_height": null,
            "padding": null,
            "grid_auto_rows": null,
            "grid_gap": null,
            "max_width": null,
            "order": null,
            "_view_module_version": "1.2.0",
            "grid_template_areas": null,
            "object_position": null,
            "object_fit": null,
            "grid_auto_columns": null,
            "margin": null,
            "display": null,
            "left": null
          }
        },
        "655e88ef42d14ecba783c020489fed45": {
          "model_module": "@jupyter-widgets/controls",
          "model_name": "DescriptionStyleModel",
          "state": {
            "_view_name": "StyleView",
            "_model_name": "DescriptionStyleModel",
            "description_width": "",
            "_view_module": "@jupyter-widgets/base",
            "_model_module_version": "1.5.0",
            "_view_count": null,
            "_view_module_version": "1.2.0",
            "_model_module": "@jupyter-widgets/controls"
          }
        },
        "50db44f35c3e4119acbdc1cdca961240": {
          "model_module": "@jupyter-widgets/base",
          "model_name": "LayoutModel",
          "state": {
            "_view_name": "LayoutView",
            "grid_template_rows": null,
            "right": null,
            "justify_content": null,
            "_view_module": "@jupyter-widgets/base",
            "overflow": null,
            "_model_module_version": "1.2.0",
            "_view_count": null,
            "flex_flow": null,
            "width": null,
            "min_width": null,
            "border": null,
            "align_items": null,
            "bottom": null,
            "_model_module": "@jupyter-widgets/base",
            "top": null,
            "grid_column": null,
            "overflow_y": null,
            "overflow_x": null,
            "grid_auto_flow": null,
            "grid_area": null,
            "grid_template_columns": null,
            "flex": null,
            "_model_name": "LayoutModel",
            "justify_items": null,
            "grid_row": null,
            "max_height": null,
            "align_content": null,
            "visibility": null,
            "align_self": null,
            "height": null,
            "min_height": null,
            "padding": null,
            "grid_auto_rows": null,
            "grid_gap": null,
            "max_width": null,
            "order": null,
            "_view_module_version": "1.2.0",
            "grid_template_areas": null,
            "object_position": null,
            "object_fit": null,
            "grid_auto_columns": null,
            "margin": null,
            "display": null,
            "left": null
          }
        }
      }
    }
  },
  "cells": [
    {
      "cell_type": "markdown",
      "metadata": {
        "id": "itktlDgQqyus"
      },
      "source": [
        "# Análisis de modelos para clasificación de riesgo para enfermedades cardiovasculares.\n",
        "\n",
        "\n",
        "\n"
      ]
    },
    {
      "cell_type": "markdown",
      "metadata": {
        "id": "z8BFCk98rR1b"
      },
      "source": [
        "## Hipótesis."
      ]
    },
    {
      "cell_type": "markdown",
      "metadata": {
        "id": "f-eSYwRlrc-A"
      },
      "source": [
        "Tenemos dos conjuntos de datos que proporciona la información relacionada con la enfermedad cardíaca. El objetivo es clasificar en (enfermo \\ no enfermo) utilizando tres algoritmos de aprendizaje automático ( Regresión logística, KNN y Bayes) y descubrir que algoritmo es el más adecuado para este conjunto de datos."
      ]
    },
    {
      "cell_type": "markdown",
      "metadata": {
        "id": "ejX69ORY8yKK"
      },
      "source": [
        "##Introducción "
      ]
    },
    {
      "cell_type": "markdown",
      "metadata": {
        "id": "lrkJjJDVsi9E"
      },
      "source": [
        "En las últimas décadas el mundo ha experimentado una transformación digital acelerada lo que ha traído como consecuencia que las instituciones de salud almacenan y administran su información de manera digital. Como los ataques cardíacos reflejan en las estadísticas un alto porcentaje de decesos a nivel mundial. Se realizará un estudio para la predicción de enfermedades cardiacas aplicando el aprendizaje automático y de esta manera analizar las variables representativas que nos aportarán información relevante para determinar el estado de riesgo del paciente a sufrir alguna enfermedad cardiaca.\n",
        "El presente trabajo se enfoca en aplicar un data sets a diferentes modelos de clasificación ( Regresión logística, Random Forest, KNN y Bayes)  para comparar cual de todos tiene la mayor  precisión para  detectar de forma precisa  qué pacientes tienen riesgo que tiene una persona de sufrir una enfermedad cardiovascular. Utilizando aprendizaje automático debido a que este crea algoritmos capaces de generalizar comportamientos y reconocer patrones a partir de una información suministrada  esto nos servirá  para comparar la exactitud en la predicción del riesgo cardiovascular se requerirá  la evaluación y el tratamiento de múltiples factores presentes en este tipo de padecimientos cardiacos para desarrollar un estudio comparativo de algoritmos de clasificación de aprendizaje automático para detectar si un paciente está  propenso a  estar enfermo o no de alguna enfermedad cardiaca.\n"
      ]
    },
    {
      "cell_type": "markdown",
      "metadata": {
        "id": "6c356FaitsJt"
      },
      "source": [
        "## Estado del Arte"
      ]
    },
    {
      "cell_type": "markdown",
      "metadata": {
        "id": "5O8e3UZltwQI"
      },
      "source": [
        "### Artículo 1\n",
        "\n"
      ]
    },
    {
      "cell_type": "markdown",
      "metadata": {
        "id": "k39j41mO9V_Z"
      },
      "source": [
        "En este artículo habla sobre las enfermedades cardiovasculares que constituyen un conjunto de entidades que afectan el corazón, la realizaron para conocer los hábitos de salud de los estudiantes a nivel universitario, las técnicas de minería de datos que ellos utilizaron ayudan a realizar de manera sencilla el análisis de los resultados y tipificar el tipo de enfermedades en los alumnos, los resultados obtenidos los clasificaron en 4 clúster que contenían los vectores de las encuestas, los cuales ayudan a analizar de una manera más clara los datos y mencionan  que los estudiantes son susceptibles a sufrir enfermedades cardiovasculares, en su vida futura de acuerdo a sus hábitos actuales. Utilizaron la metodología CRIPS-DM (Cross Industry Standard Process for Data Mining) con sus fases.\n",
        "Concluyeron que las principales causas por la que se pueden padecer este tipo de enfermedades es por el consumo de bebidas alcohólicas y la falta de ejercicio por lo cual tienen el riesgo de padecer una enfermedad cardiovascular, es por eso que este  artículo tiene relación con nuestro trabajo porque ellos utilizaron encuestas para determinar las variables, nosotros utilizamos una base de datos clínicos y coincidimos que los factores de riesgo pueden ser la edad, el consumo de bebidas alcohólicas, falta de actividad física entre otras e igual utilizan una metodología similar a la KDD que nosotros utilizamos.\n",
        "\n",
        "\n",
        "\n",
        "\n",
        "\n",
        "\n",
        "Núñez Cardenas, F. de J., Zavaleta Chi, I. D. C., Felipe Redondo, A. M., & Meléndez Hernández, J. (2018). Aplicación de técnicas de minería de datos para la tipificación de enfermedades cardiovasculares en alumnos universitarios. Ciencia Huasteca Boletín Científico De La Escuela Superior De Huejutla, 6(11). https://doi.org/10.29057/esh.v6i11.2755\n",
        "\n",
        "\n",
        "Link de referencia:https://repository.uaeh.edu.mx/revistas/index.php/huejutla/article/view/2755/2779"
      ]
    },
    {
      "cell_type": "markdown",
      "metadata": {
        "id": "Cl_9Ahs2t3HF"
      },
      "source": [
        "### Artículo 2"
      ]
    },
    {
      "cell_type": "markdown",
      "metadata": {
        "id": "Xq-ks-WK9eV8"
      },
      "source": [
        "Nuestro caso de estudio nos habla sobre los problemas cardiovasculares Qué es una enfermedad que está a nivel mundial Ya sea en países de primer mundo como en países tercermundistas esto es algo que nos afecta a todos. La medicina se ha ido actualizando poco a poco con el paso del tiempo y apoyándose en otras áreas de conocimiento ya que como nosotros vamos evolucionando y probando nuevas tecnologías que se van inventado como por ejemplo el machine learning.\n",
        "Cómo lo dice Cristian Molina Espinosa en la tesis “Detección temprana de riesgo cardiovascular usan Text Meaning en los campos de texto no estructurados del registro clínico electrónico” La cual nos dice que a partir de un modelo predictivo basado de Machine Learning Podemos ver si un una persona es propensa a tener una enfermedad cardiovascular esto para la anticipación y que el paciente tenga un buen tratamiento y así evitar el fallecimiento de este mismo\n",
        "Cristian Molina Espinosa usó el modelo K-Means el cual le arrojó como resultados conjuntos De pacientes con síntomas y datos similares, Y esto nos ayudará a tener una nueva visión de los datos de los pacientes que llegan A una revisión y por lo tanto darles un diagnóstico rápido, teniendo  el modelo una eficacia del .968.\n",
        "\n",
        "Nosotros a en lugar de solo usar un modelo compararemos 4 para probar cual es el más eficaz \n",
        "\n",
        "\n",
        "Molina Espinoza, C.I.. (2014). Detección temprana de riesgo cardiovascular usando text mining en los campos de texto no estructurado del registro clínico electrónico. ., de UNIVERSIDAD DE CHILE Sitio web: http://repositorio.uchile.cl/handle/2250/130804\n",
        "\n",
        "Link de referencia: http://repositorio.uchile.cl/bitstream/handle/2250/130804/Detecci%c3%b3n-temprana-de-riesgo-cardiovascular.pdf?sequence=4&isAllowed=y"
      ]
    },
    {
      "cell_type": "markdown",
      "metadata": {
        "id": "y3eqageWt3Js"
      },
      "source": [
        "### Artículo 3\n",
        "Se han realizado numerosas aplicaciones de la minería de datos al diagnóstico y tratamiento de enfermedades, entre estas se encuentran cáncer de próstata,enfermedades cardiovasculares,  hipertensión  arterial,  cáncer  de  mama, parkinson  y enfermedades tumorales, cáncer de  cuello  uterino,  diabetes, dengue, entre  otras. Respecto a las enfermedades cardiovasculares, se utiliza un método clasificatorio para cada una de ellas, se obtuvo un mejor resultado utilizando las  máquinas  de  soporte  vectorial. Así mismo se presenta un estudio predictivo   para   el diagnóstico   de   enfermedades de este tipo.  En  este  estudio  se  utilizan  las redes  bayesianas  y  los  árboles  de  decisión  para realizar  tareas  de  predicción  relacionadas  con  dicha enfermedad.\n",
        "Como el artículo menciona, el propósito es encontrar una mejora en el sector salud usando la minería de datos, para esto, se aplica un  modelo  de  minería  de  datos  para estimar la demanda de la sala de urgencias de un hospital pediátrico público de la ciudad  de Santiago  de Chile.  Para  el  estudio  se  utilizan  las  técnicas de regresión lineal, red   neuronal y regresión de soporte vectorial. Además   se  desarrolla  un  modelo para mejorar el  servicio  de  emergencias del Hospital  de Guayaquil.  En  el  estudio  se  utiliza  una regresión para predecir la cantidad de emergencias esperadas. Tomamos como referencia dicho artículo, pues es necesario una clasificación para catalogar a un paciente dentro de la categoría de enfermedad cardiaca, además en nuestro estudio buscamos catalogar a pacientes enfermos y no enfermos, para esto una predicción basada en síntomas termina siendo necesario para entrar a nuestra categoría. Además los métodos para una mejora del servicio de salud son útiles, pues a partir de la estimación de la demanda de un hospital, podemos catalogar pacientes enfermos y una vez ahí clasificarlos.\n",
        "\n",
        "\n",
        "\n",
        "\n"
      ]
    },
    {
      "cell_type": "markdown",
      "metadata": {
        "id": "eMPk_-_m9jZZ"
      },
      "source": [
        "-text-\n",
        "Link de referencia:https://revistas.elpoli.edu.co/index.php/pol/article/view/494/520"
      ]
    },
    {
      "cell_type": "markdown",
      "metadata": {
        "id": "wdbUN_zvuEFJ"
      },
      "source": [
        "## Metodología\n"
      ]
    },
    {
      "cell_type": "markdown",
      "metadata": {
        "id": "o1dAH50s9pwK"
      },
      "source": [
        "### Contexto"
      ]
    },
    {
      "cell_type": "markdown",
      "metadata": {
        "id": "uIlNPUSRwTCH"
      },
      "source": [
        "Cada año, la OMS, indica que anualmente mueren aproximadamente 17.9 millones de personas por complicaciones cardiovasculares, estas ocurren cuando ciertos factores de riesgo del corazón se agravan.Por fortuna existen muchos factores que advierten sobre un posible ataque, algunos de los principales factores son:\n",
        "Edad\n",
        "Presión arterial\n",
        "Dolor de pecho\n",
        "Frecuencia cardiaca\n",
        "Defectos en el corazón\n"
      ]
    },
    {
      "cell_type": "markdown",
      "metadata": {
        "id": "EL6J4GQyyGzS"
      },
      "source": [
        "### Entenimiento de los datos\n"
      ]
    },
    {
      "cell_type": "markdown",
      "metadata": {
        "id": "P_h3ydV41D-c"
      },
      "source": [
        "##### Sex\n",
        "Es la variable que representa el genero, tomando como valor para el hombre el número 1 y para la mujer 0"
      ]
    },
    {
      "cell_type": "markdown",
      "metadata": {
        "id": "WEufBEjn11_0"
      },
      "source": [
        "#### Age\n",
        "Es la varible que representa la edad de encuestados en los datasets.\n",
        "\n",
        "Se representara con un tipo de variable entero. El analisi arroja que las edades estan en los rangos de 25 a 75 años.\n",
        "\n"
      ]
    },
    {
      "cell_type": "markdown",
      "metadata": {
        "id": "shoar0kb2Hfa"
      },
      "source": [
        "#### Cp\n",
        "Es la variable que representa un dolor de pecho se clasifica en:\n",
        "\n",
        "*   Valor 1: Angina típica:\n",
        "    1. Dolor con molestia retroesternal ( puede incluir un dolor leve, una sensación de ardor o agobio, un dolor punzante agudo y dolor que se irradia hacia el cuello o los hombros).\n",
        "    2.   Dolor provocado con el ejercicio o el estrés emocional\n",
        "    3. Mejora con el reposo y con nitroglicerina.\n",
        "*   Valor 2: Angina atípica\n",
        "    1. Dolor con dos carateristicas de la angina tipica.\n",
        "    2. Dolor a nivel epigastrico (Se siente en la parte media superior del abdomen entre las costillas y el ombligo, el dolor puede ser leve o intenso).\n",
        "    3. Dolor transtorácico transfixiante (Dolor que empieza en el pecho y termina en la espalda).\n",
        "    4. Dolor de caracteristicas pleuriticas (Dolor de pecho que empeora cuando respiras).\n",
        "    5. disnea creciente(Falta de aire).\n",
        "\n",
        "*   Valor 3: Dolor no anginoso\n",
        "    1. Dolor con una o ninguna de las caracteristicas de angina tipica.\n",
        "*   Valor 4: Asintomático \n",
        "\n",
        "\n",
        "Se representara con un tipo de variable entero."
      ]
    },
    {
      "cell_type": "markdown",
      "metadata": {
        "id": "aHqSJoiq2PPo"
      },
      "source": [
        "#### Trtbps\n"
      ]
    },
    {
      "cell_type": "markdown",
      "metadata": {
        "id": "emKQCtqC7ncC"
      },
      "source": [
        "Esta variable representa presión arterial en reposo (en mm Hg al ingreso al hospital)\n",
        "\n",
        "![presion_arterial.jpg](data:image/jpeg;base64,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)\n",
        "\n",
        "Se representara con un tipo de variable entero.\n"
      ]
    },
    {
      "cell_type": "markdown",
      "metadata": {
        "id": "4XSXKkD-2dMZ"
      },
      "source": [
        "#### Chol\n"
      ]
    },
    {
      "cell_type": "markdown",
      "metadata": {
        "id": "1F8LzdNv7804"
      },
      "source": [
        "Esta variable representa el colesterol en sangre ( en mg / dl al ingresar al hospital).\n",
        "![colesterol.jpg](data:image/jpeg;base64,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)\n",
        "\n",
        "Se representara con un tipo de variable entero."
      ]
    },
    {
      "cell_type": "markdown",
      "metadata": {
        "id": "kzkvyGbh4fEQ"
      },
      "source": [
        "#### Fbs\n"
      ]
    },
    {
      "cell_type": "markdown",
      "metadata": {
        "id": "v9xHo68s8Lp7"
      },
      "source": [
        "Esta variable representa el azúcar en sangre en ayunas ( si es > 120 mg / dl).\n",
        "\n",
        "Se representa:\n",
        "\n",
        "\n",
        "*   Con un uno si es verdadero (Diabetico).\n",
        "*   Con un cero si es falso (No diabetico).\n",
        "\n",
        "Se representara con un tipo de variable entero."
      ]
    },
    {
      "cell_type": "markdown",
      "metadata": {
        "id": "7UihBzTc8SI8"
      },
      "source": [
        "####Restecg\n"
      ]
    },
    {
      "cell_type": "markdown",
      "metadata": {
        "id": "sQPUfTQL8WFi"
      },
      "source": [
        "Esta variable representa resultados electrocardiográficos en reposo.\n",
        "\n",
        "Se representa:\n",
        "\n",
        "* Valor 0: normal\n",
        "* Valor 1: tener anomalía de la onda ST-T (reflejan todo tipo de patologías en las que se altera el funcionamiento celular, como la isquemia miocárdica o la elevación de la concentración de potasio en la sangre).\n",
        "* Valor 2: muestra hipertrofia ventricular izquierda ( Es el agrandamiento y engrosamiento de las paredes de la cavidad de bombeo principal del corazón).\n",
        "\n",
        "Se representara con un tipo de variable entero."
      ]
    },
    {
      "cell_type": "markdown",
      "metadata": {
        "id": "IJSu0kiw8h_E"
      },
      "source": [
        "#### Thalachh\n",
        "\n"
      ]
    },
    {
      "cell_type": "markdown",
      "metadata": {
        "id": "BGp2Slp-8nkI"
      },
      "source": [
        "Esta variable representa la frecuencia cardíaca máxima alcanzada.\n",
        "\n",
        "Se representara con un tipo de variable entero."
      ]
    },
    {
      "cell_type": "markdown",
      "metadata": {
        "id": "N4jUEuaQ2mlb"
      },
      "source": [
        "####Exng\n",
        "Esta variable representa la angina inducida por ejercicio.\n",
        "\n",
        "Se representa con:\n",
        "\n",
        "*   Con un uno en caso de que sea verdarero.\n",
        "*   Con un cero en caso de que sea falso.\n",
        "\n",
        "Se representara con un tipo de variable entero."
      ]
    },
    {
      "cell_type": "markdown",
      "metadata": {
        "id": "82N5EyE38y1o"
      },
      "source": [
        "#### Oldpeak\n"
      ]
    },
    {
      "cell_type": "markdown",
      "metadata": {
        "id": "KjPB7LKn9Kkb"
      },
      "source": [
        "Esta variable representa la depresión del ST inducida por el ejercicio en relación con el reposo.\n",
        "\n",
        "Se representara con un tipo de variable entero.\n"
      ]
    },
    {
      "cell_type": "markdown",
      "metadata": {
        "id": "6wuuAO7G2m1w"
      },
      "source": [
        "#### Slope\n"
      ]
    },
    {
      "cell_type": "markdown",
      "metadata": {
        "id": "ZN3N2NZF-TBv"
      },
      "source": [
        "Esta variable representa la pendiente del segmento ST de ejercicio pico.\n",
        "\n",
        "Se representa:\n",
        "\n",
        "*   Valor 0: Pendiente ascendente\n",
        "*   Valor 1: Plano\n",
        "*   Valor 2: Descendente\n",
        "\n",
        "Se representara con un tipo de variable entero."
      ]
    },
    {
      "cell_type": "markdown",
      "metadata": {
        "id": "NzdC8o3b2m_E"
      },
      "source": [
        "#### Caa\n"
      ]
    },
    {
      "cell_type": "markdown",
      "metadata": {
        "id": "E-sPh1mz54MN"
      },
      "source": [
        "Esta variable representa el número de vasos principales (0-4) coloreados por la fluoroscopia la cual es un tipo de radiografía que muestra en tiempo real órganos, tejidos y otras estructuras internas en movimiento.\n",
        "\n",
        "\n",
        "\n",
        "*   Valor 0 = Normal.\n",
        "*   Valor 1 = Problema estable.\n",
        "*   Valor 2 = Poblema grave.\n",
        "*   Valor 3 = Problema irreparable.\n",
        "*   Valor 4 = No se tiene la información.\n",
        "\n"
      ]
    },
    {
      "cell_type": "markdown",
      "metadata": {
        "id": "h9_VJ8uW2nJd"
      },
      "source": [
        "#### Thall\n"
      ]
    },
    {
      "cell_type": "markdown",
      "metadata": {
        "id": "ZNbF51dp_Y4y"
      },
      "source": [
        "Esta variable representa el defecto del corazón:\n",
        "\n",
        "*   Valor 1 = normal.\n",
        "*   Valor 2 = defecto fijo.\n",
        "*   Valor 3 = defecto reversible."
      ]
    },
    {
      "cell_type": "markdown",
      "metadata": {
        "id": "4VdJe8oAZDf1"
      },
      "source": [
        "####Ouput\n"
      ]
    },
    {
      "cell_type": "markdown",
      "metadata": {
        "id": "FveJCAgyADbU"
      },
      "source": [
        "Esta variable representa el diagnóstico de enfermedad cardíaca.\n",
        "\n",
        "Se representa con:\n",
        "\n",
        "*   Con un uno si en peligro.\n",
        "*   Con un cero fuera de peligro."
      ]
    },
    {
      "cell_type": "markdown",
      "metadata": {
        "id": "nqD6hDpf-rMM"
      },
      "source": [
        "## Importar librerias."
      ]
    },
    {
      "cell_type": "code",
      "metadata": {
        "id": "HWFsxQTc-xj2"
      },
      "source": [
        "# Es una libreria por excelencia para el analisis de datos.\n",
        "# (Panel data: ofrece estructuras de datos y operaciones para manipular tablas numéricas y series temporales.) \n",
        "import pandas as pd\n",
        "#Libreria para visualizador de datos.\n",
        "import seaborn as sns\n",
        "#D3.js Libreria más flexible para hacer graficas muy interesantes\n",
        "\n",
        "# matplotlib. pyplot es una colección de funciones que hacen que matplotlib funcione como MATLAB.\n",
        "import matplotlib.pyplot as plt\n",
        "# la librería principal para la informática científica, proporciona potentes estructuras de datos, implementando \n",
        "# matrices y matrices multidimensionales. \n",
        "import numpy as np\n",
        "from sklearn.datasets import load_boston\n",
        "\n",
        "import matplotlib\n",
        "import matplotlib.pyplot as plt\n",
        "\n",
        "import statsmodels.api as sm\n",
        "import missingno as msno\n",
        "%matplotlib inline\n"
      ],
      "execution_count": 265,
      "outputs": []
    },
    {
      "cell_type": "markdown",
      "metadata": {
        "id": "OI1iO_kB1VIi"
      },
      "source": [
        "## Preprocesamiento de datos\n"
      ]
    },
    {
      "cell_type": "code",
      "metadata": {
        "colab": {
          "base_uri": "https://localhost:8080/",
          "height": 200
        },
        "id": "bvOyAdMb_EK9",
        "outputId": "f04bab78-75ef-4756-d940-f7db651a9a13"
      },
      "source": [
        "#Se descarga la base de datos de un github\n",
        "df=pd.read_csv('https://raw.githubusercontent.com/Banti12/Proyecto-Final-Mineria/main/heart_completo.csv')\n",
        "df.head()"
      ],
      "execution_count": 266,
      "outputs": [
        {
          "output_type": "execute_result",
          "data": {
            "text/html": [
              "<div>\n",
              "<style scoped>\n",
              "    .dataframe tbody tr th:only-of-type {\n",
              "        vertical-align: middle;\n",
              "    }\n",
              "\n",
              "    .dataframe tbody tr th {\n",
              "        vertical-align: top;\n",
              "    }\n",
              "\n",
              "    .dataframe thead th {\n",
              "        text-align: right;\n",
              "    }\n",
              "</style>\n",
              "<table border=\"1\" class=\"dataframe\">\n",
              "  <thead>\n",
              "    <tr style=\"text-align: right;\">\n",
              "      <th></th>\n",
              "      <th>age</th>\n",
              "      <th>sex</th>\n",
              "      <th>cp</th>\n",
              "      <th>trtbps</th>\n",
              "      <th>chol</th>\n",
              "      <th>fbs</th>\n",
              "      <th>restecg</th>\n",
              "      <th>thalachh</th>\n",
              "      <th>exng</th>\n",
              "      <th>oldpeak</th>\n",
              "      <th>slp</th>\n",
              "      <th>caa</th>\n",
              "      <th>thall</th>\n",
              "      <th>output</th>\n",
              "    </tr>\n",
              "  </thead>\n",
              "  <tbody>\n",
              "    <tr>\n",
              "      <th>0</th>\n",
              "      <td>63</td>\n",
              "      <td>1</td>\n",
              "      <td>3</td>\n",
              "      <td>145</td>\n",
              "      <td>233</td>\n",
              "      <td>1</td>\n",
              "      <td>0</td>\n",
              "      <td>150</td>\n",
              "      <td>0</td>\n",
              "      <td>2.3</td>\n",
              "      <td>0</td>\n",
              "      <td>0</td>\n",
              "      <td>1</td>\n",
              "      <td>1</td>\n",
              "    </tr>\n",
              "    <tr>\n",
              "      <th>1</th>\n",
              "      <td>37</td>\n",
              "      <td>1</td>\n",
              "      <td>2</td>\n",
              "      <td>130</td>\n",
              "      <td>250</td>\n",
              "      <td>0</td>\n",
              "      <td>1</td>\n",
              "      <td>187</td>\n",
              "      <td>0</td>\n",
              "      <td>3.5</td>\n",
              "      <td>0</td>\n",
              "      <td>0</td>\n",
              "      <td>2</td>\n",
              "      <td>1</td>\n",
              "    </tr>\n",
              "    <tr>\n",
              "      <th>2</th>\n",
              "      <td>41</td>\n",
              "      <td>0</td>\n",
              "      <td>1</td>\n",
              "      <td>130</td>\n",
              "      <td>204</td>\n",
              "      <td>0</td>\n",
              "      <td>0</td>\n",
              "      <td>172</td>\n",
              "      <td>0</td>\n",
              "      <td>1.4</td>\n",
              "      <td>2</td>\n",
              "      <td>0</td>\n",
              "      <td>2</td>\n",
              "      <td>1</td>\n",
              "    </tr>\n",
              "    <tr>\n",
              "      <th>3</th>\n",
              "      <td>56</td>\n",
              "      <td>1</td>\n",
              "      <td>1</td>\n",
              "      <td>120</td>\n",
              "      <td>236</td>\n",
              "      <td>0</td>\n",
              "      <td>1</td>\n",
              "      <td>178</td>\n",
              "      <td>0</td>\n",
              "      <td>0.8</td>\n",
              "      <td>2</td>\n",
              "      <td>0</td>\n",
              "      <td>2</td>\n",
              "      <td>1</td>\n",
              "    </tr>\n",
              "    <tr>\n",
              "      <th>4</th>\n",
              "      <td>57</td>\n",
              "      <td>0</td>\n",
              "      <td>0</td>\n",
              "      <td>120</td>\n",
              "      <td>354</td>\n",
              "      <td>0</td>\n",
              "      <td>1</td>\n",
              "      <td>163</td>\n",
              "      <td>1</td>\n",
              "      <td>0.6</td>\n",
              "      <td>2</td>\n",
              "      <td>0</td>\n",
              "      <td>2</td>\n",
              "      <td>1</td>\n",
              "    </tr>\n",
              "  </tbody>\n",
              "</table>\n",
              "</div>"
            ],
            "text/plain": [
              "   age  sex  cp  trtbps  chol  fbs  ...  exng  oldpeak  slp  caa  thall  output\n",
              "0   63    1   3     145   233    1  ...     0      2.3    0    0      1       1\n",
              "1   37    1   2     130   250    0  ...     0      3.5    0    0      2       1\n",
              "2   41    0   1     130   204    0  ...     0      1.4    2    0      2       1\n",
              "3   56    1   1     120   236    0  ...     0      0.8    2    0      2       1\n",
              "4   57    0   0     120   354    0  ...     1      0.6    2    0      2       1\n",
              "\n",
              "[5 rows x 14 columns]"
            ]
          },
          "metadata": {
            "tags": []
          },
          "execution_count": 266
        }
      ]
    },
    {
      "cell_type": "code",
      "metadata": {
        "id": "yw7q1vZGQHHJ",
        "colab": {
          "base_uri": "https://localhost:8080/",
          "height": 0
        },
        "outputId": "1eb87c40-39d7-47c3-e227-d0e596d3a6df"
      },
      "source": [
        "#Obtenemos una tupla que denotan las longitudes de la dimensión de matriz correspondiente\n",
        "df.shape"
      ],
      "execution_count": 267,
      "outputs": [
        {
          "output_type": "execute_result",
          "data": {
            "text/plain": [
              "(1056, 14)"
            ]
          },
          "metadata": {
            "tags": []
          },
          "execution_count": 267
        }
      ]
    },
    {
      "cell_type": "code",
      "metadata": {
        "colab": {
          "base_uri": "https://localhost:8080/",
          "height": 0
        },
        "id": "bcuQ5FPzQ0F7",
        "outputId": "f088b04e-4869-4a6b-da62-22ebe93a3af3"
      },
      "source": [
        "#Realizamos una exploración de qué tipo de datos es cada variable.\n",
        "df.dtypes"
      ],
      "execution_count": 268,
      "outputs": [
        {
          "output_type": "execute_result",
          "data": {
            "text/plain": [
              "age           int64\n",
              "sex           int64\n",
              "cp            int64\n",
              "trtbps        int64\n",
              "chol          int64\n",
              "fbs           int64\n",
              "restecg       int64\n",
              "thalachh      int64\n",
              "exng          int64\n",
              "oldpeak     float64\n",
              "slp           int64\n",
              "caa           int64\n",
              "thall         int64\n",
              "output        int64\n",
              "dtype: object"
            ]
          },
          "metadata": {
            "tags": []
          },
          "execution_count": 268
        }
      ]
    },
    {
      "cell_type": "code",
      "metadata": {
        "colab": {
          "base_uri": "https://localhost:8080/",
          "height": 581
        },
        "id": "fo6REJyGRZCD",
        "outputId": "6bb4c6a6-c0ff-4a5f-bacb-ae0c01847a6e"
      },
      "source": [
        "# Buscamos valores nulos como nuestros datos.\n",
        "msno.matrix(df)"
      ],
      "execution_count": 269,
      "outputs": [
        {
          "output_type": "execute_result",
          "data": {
            "text/plain": [
              "<matplotlib.axes._subplots.AxesSubplot at 0x7fa2a1eec850>"
            ]
          },
          "metadata": {
            "tags": []
          },
          "execution_count": 269
        },
        {
          "output_type": "display_data",
          "data": {
            "image/png": "[encoded data removed]",
            "text/plain": [
              "<Figure size 1800x720 with 2 Axes>"
            ]
          },
          "metadata": {
            "tags": [],
            "needs_background": "light"
          }
        }
      ]
    },
    {
      "cell_type": "markdown",
      "metadata": {
        "id": "X5COIFl6Rjs_"
      },
      "source": [
        "Como podemos observa en la grafica anterior, el dataset no contiene valores nulos."
      ]
    },
    {
      "cell_type": "code",
      "metadata": {
        "colab": {
          "base_uri": "https://localhost:8080/",
          "height": 0
        },
        "id": "USlp8D72SKyi",
        "outputId": "fed571e5-ac6a-41b7-ea57-b0e500ca5e45"
      },
      "source": [
        "# A pesar de que la grafica nos indica que no se cuenta con valores vacios, se realiza una validación.\n",
        "\n",
        "\n",
        "#dropna es una funcion que elimina las columnas con valores vacios.\n",
        "dn=df.dropna()\n",
        "#Volvemos a ejecutar un shape para verificar que no tenemos valores vacios.\n",
        "dn.shape"
      ],
      "execution_count": 270,
      "outputs": [
        {
          "output_type": "execute_result",
          "data": {
            "text/plain": [
              "(1056, 14)"
            ]
          },
          "metadata": {
            "tags": []
          },
          "execution_count": 270
        }
      ]
    },
    {
      "cell_type": "code",
      "metadata": {
        "colab": {
          "base_uri": "https://localhost:8080/",
          "height": 310
        },
        "id": "Bw2jBVL0Tsiq",
        "outputId": "bf5c6ea1-3dfe-47fc-eb48-b8f7f7ce4125"
      },
      "source": [
        "#Describimos información estadística de los datos, como es el número de muestras, el valor medio, la desviación estándar, \n",
        "#el valor mínimo, máximo, la mediana y los valores correspondientes a los percentiles 25% y 75%.\n",
        "dn.describe()"
      ],
      "execution_count": 271,
      "outputs": [
        {
          "output_type": "execute_result",
          "data": {
            "text/html": [
              "<div>\n",
              "<style scoped>\n",
              "    .dataframe tbody tr th:only-of-type {\n",
              "        vertical-align: middle;\n",
              "    }\n",
              "\n",
              "    .dataframe tbody tr th {\n",
              "        vertical-align: top;\n",
              "    }\n",
              "\n",
              "    .dataframe thead th {\n",
              "        text-align: right;\n",
              "    }\n",
              "</style>\n",
              "<table border=\"1\" class=\"dataframe\">\n",
              "  <thead>\n",
              "    <tr style=\"text-align: right;\">\n",
              "      <th></th>\n",
              "      <th>age</th>\n",
              "      <th>sex</th>\n",
              "      <th>cp</th>\n",
              "      <th>trtbps</th>\n",
              "      <th>chol</th>\n",
              "      <th>fbs</th>\n",
              "      <th>restecg</th>\n",
              "      <th>thalachh</th>\n",
              "      <th>exng</th>\n",
              "      <th>oldpeak</th>\n",
              "      <th>slp</th>\n",
              "      <th>caa</th>\n",
              "      <th>thall</th>\n",
              "      <th>output</th>\n",
              "    </tr>\n",
              "  </thead>\n",
              "  <tbody>\n",
              "    <tr>\n",
              "      <th>count</th>\n",
              "      <td>1056.000000</td>\n",
              "      <td>1056.000000</td>\n",
              "      <td>1056.000000</td>\n",
              "      <td>1056.000000</td>\n",
              "      <td>1056.000000</td>\n",
              "      <td>1056.000000</td>\n",
              "      <td>1056.000000</td>\n",
              "      <td>1056.000000</td>\n",
              "      <td>1056.000000</td>\n",
              "      <td>1056.000000</td>\n",
              "      <td>1056.000000</td>\n",
              "      <td>1056.000000</td>\n",
              "      <td>1056.000000</td>\n",
              "      <td>1056.000000</td>\n",
              "    </tr>\n",
              "    <tr>\n",
              "      <th>mean</th>\n",
              "      <td>53.559659</td>\n",
              "      <td>0.596591</td>\n",
              "      <td>0.962121</td>\n",
              "      <td>138.150568</td>\n",
              "      <td>221.540720</td>\n",
              "      <td>0.286932</td>\n",
              "      <td>0.515152</td>\n",
              "      <td>144.321023</td>\n",
              "      <td>0.394886</td>\n",
              "      <td>1.990870</td>\n",
              "      <td>1.014205</td>\n",
              "      <td>1.023674</td>\n",
              "      <td>1.749053</td>\n",
              "      <td>0.533144</td>\n",
              "    </tr>\n",
              "    <tr>\n",
              "      <th>std</th>\n",
              "      <td>11.179375</td>\n",
              "      <td>0.490814</td>\n",
              "      <td>0.944169</td>\n",
              "      <td>25.562470</td>\n",
              "      <td>53.732674</td>\n",
              "      <td>0.452544</td>\n",
              "      <td>0.514950</td>\n",
              "      <td>30.783269</td>\n",
              "      <td>0.489058</td>\n",
              "      <td>2.187208</td>\n",
              "      <td>0.723857</td>\n",
              "      <td>1.114492</td>\n",
              "      <td>0.957138</td>\n",
              "      <td>0.499137</td>\n",
              "    </tr>\n",
              "    <tr>\n",
              "      <th>min</th>\n",
              "      <td>29.000000</td>\n",
              "      <td>0.000000</td>\n",
              "      <td>0.000000</td>\n",
              "      <td>94.000000</td>\n",
              "      <td>126.000000</td>\n",
              "      <td>0.000000</td>\n",
              "      <td>0.000000</td>\n",
              "      <td>71.000000</td>\n",
              "      <td>0.000000</td>\n",
              "      <td>0.000000</td>\n",
              "      <td>0.000000</td>\n",
              "      <td>0.000000</td>\n",
              "      <td>0.000000</td>\n",
              "      <td>0.000000</td>\n",
              "    </tr>\n",
              "    <tr>\n",
              "      <th>25%</th>\n",
              "      <td>45.000000</td>\n",
              "      <td>0.000000</td>\n",
              "      <td>0.000000</td>\n",
              "      <td>120.000000</td>\n",
              "      <td>184.750000</td>\n",
              "      <td>0.000000</td>\n",
              "      <td>0.000000</td>\n",
              "      <td>123.000000</td>\n",
              "      <td>0.000000</td>\n",
              "      <td>0.285054</td>\n",
              "      <td>0.000000</td>\n",
              "      <td>0.000000</td>\n",
              "      <td>1.000000</td>\n",
              "      <td>0.000000</td>\n",
              "    </tr>\n",
              "    <tr>\n",
              "      <th>50%</th>\n",
              "      <td>54.500000</td>\n",
              "      <td>1.000000</td>\n",
              "      <td>1.000000</td>\n",
              "      <td>132.000000</td>\n",
              "      <td>218.500000</td>\n",
              "      <td>0.000000</td>\n",
              "      <td>1.000000</td>\n",
              "      <td>149.000000</td>\n",
              "      <td>0.000000</td>\n",
              "      <td>1.384246</td>\n",
              "      <td>1.000000</td>\n",
              "      <td>1.000000</td>\n",
              "      <td>2.000000</td>\n",
              "      <td>1.000000</td>\n",
              "    </tr>\n",
              "    <tr>\n",
              "      <th>75%</th>\n",
              "      <td>62.000000</td>\n",
              "      <td>1.000000</td>\n",
              "      <td>2.000000</td>\n",
              "      <td>153.000000</td>\n",
              "      <td>249.000000</td>\n",
              "      <td>1.000000</td>\n",
              "      <td>1.000000</td>\n",
              "      <td>168.000000</td>\n",
              "      <td>1.000000</td>\n",
              "      <td>2.845177</td>\n",
              "      <td>2.000000</td>\n",
              "      <td>2.000000</td>\n",
              "      <td>2.000000</td>\n",
              "      <td>1.000000</td>\n",
              "    </tr>\n",
              "    <tr>\n",
              "      <th>max</th>\n",
              "      <td>77.000000</td>\n",
              "      <td>1.000000</td>\n",
              "      <td>3.000000</td>\n",
              "      <td>200.000000</td>\n",
              "      <td>564.000000</td>\n",
              "      <td>1.000000</td>\n",
              "      <td>2.000000</td>\n",
              "      <td>202.000000</td>\n",
              "      <td>1.000000</td>\n",
              "      <td>14.072880</td>\n",
              "      <td>2.000000</td>\n",
              "      <td>4.000000</td>\n",
              "      <td>3.000000</td>\n",
              "      <td>1.000000</td>\n",
              "    </tr>\n",
              "  </tbody>\n",
              "</table>\n",
              "</div>"
            ],
            "text/plain": [
              "               age          sex  ...        thall       output\n",
              "count  1056.000000  1056.000000  ...  1056.000000  1056.000000\n",
              "mean     53.559659     0.596591  ...     1.749053     0.533144\n",
              "std      11.179375     0.490814  ...     0.957138     0.499137\n",
              "min      29.000000     0.000000  ...     0.000000     0.000000\n",
              "25%      45.000000     0.000000  ...     1.000000     0.000000\n",
              "50%      54.500000     1.000000  ...     2.000000     1.000000\n",
              "75%      62.000000     1.000000  ...     2.000000     1.000000\n",
              "max      77.000000     1.000000  ...     3.000000     1.000000\n",
              "\n",
              "[8 rows x 14 columns]"
            ]
          },
          "metadata": {
            "tags": []
          },
          "execution_count": 271
        }
      ]
    },
    {
      "cell_type": "code",
      "metadata": {
        "colab": {
          "base_uri": "https://localhost:8080/",
          "height": 326
        },
        "id": "BYEaQ9YsVraF",
        "outputId": "0f434409-ddb3-4fc7-964e-75dc57226227"
      },
      "source": [
        "#Revisamos con se distribuye la variable target.\n",
        "\n",
        "# Es una operación de grupo que usaremos para ver como se distribuye el taget\n",
        "group=dn.groupby('output')\n",
        "#Realizamos una descripción de la distribución del target\n",
        "g=group.describe()\n",
        "# obtenemos el valor Y, que es el número de datos.\n",
        "y=g[('age', 'count')].values.tolist()\n",
        "# Obtenemos el número de descripciones del conunto.\n",
        "x=g.index.values.tolist()\n",
        "plt.bar(x, y)\n",
        "plt.show()\n",
        "g[('age', 'count')]"
      ],
      "execution_count": 272,
      "outputs": [
        {
          "output_type": "display_data",
          "data": {
            "image/png": "[encoded data removed]",
            "text/plain": [
              "<Figure size 432x288 with 1 Axes>"
            ]
          },
          "metadata": {
            "tags": [],
            "needs_background": "light"
          }
        },
        {
          "output_type": "execute_result",
          "data": {
            "text/plain": [
              "output\n",
              "0    493.0\n",
              "1    563.0\n",
              "Name: (age, count), dtype: float64"
            ]
          },
          "metadata": {
            "tags": []
          },
          "execution_count": 272
        }
      ]
    },
    {
      "cell_type": "code",
      "metadata": {
        "colab": {
          "base_uri": "https://localhost:8080/",
          "height": 590
        },
        "id": "JthUEa2BbhtI",
        "outputId": "4f4b0e2e-7e42-465f-dec5-2bb7c4c09575"
      },
      "source": [
        "#Tamaño de la grafica\n",
        "plt.figure(figsize=(10,10))\n",
        "#Calculamos la correlación\n",
        "cor = dn.corr()\n",
        "#Hacemos una matriz de correlación expresada con un mapa de calor, basada en color azul.\n",
        "#https://likegeeks.com/es/mapa-de-calor-de-seaborn/\n",
        "sns.heatmap(cor, annot=True, cmap=plt.cm.cividis)\n",
        "plt.show()"
      ],
      "execution_count": 273,
      "outputs": [
        {
          "output_type": "display_data",
          "data": {
            "image/png": "[encoded data removed]",
            "text/plain": [
              "<Figure size 720x720 with 2 Axes>"
            ]
          },
          "metadata": {
            "tags": [],
            "needs_background": "light"
          }
        }
      ]
    },
    {
      "cell_type": "markdown",
      "metadata": {
        "id": "EHI4PwTRZ6nn"
      },
      "source": [
        "### Instalar sweetviz"
      ]
    },
    {
      "cell_type": "code",
      "metadata": {
        "colab": {
          "base_uri": "https://localhost:8080/",
          "height": 0
        },
        "id": "yLNnEvvqaBCE",
        "outputId": "a4d5387d-eaf7-47b0-d3d4-4ff53eeb80db"
      },
      "source": [
        "#Instalar Sweetviz\n",
        "!pip install sweetviz"
      ],
      "execution_count": 274,
      "outputs": [
        {
          "output_type": "stream",
          "text": [
            "Requirement already satisfied: sweetviz in /usr/local/lib/python3.7/dist-packages (2.1.2)\n",
            "Requirement already satisfied: numpy>=1.16.0 in /usr/local/lib/python3.7/dist-packages (from sweetviz) (1.19.5)\n",
            "Requirement already satisfied: importlib-resources>=1.2.0 in /usr/local/lib/python3.7/dist-packages (from sweetviz) (5.1.4)\n",
            "Requirement already satisfied: tqdm>=4.43.0 in /usr/local/lib/python3.7/dist-packages (from sweetviz) (4.61.1)\n",
            "Requirement already satisfied: scipy>=1.3.2 in /usr/local/lib/python3.7/dist-packages (from sweetviz) (1.4.1)\n",
            "Requirement already satisfied: pandas!=1.0.0,!=1.0.1,!=1.0.2,>=0.25.3 in /usr/local/lib/python3.7/dist-packages (from sweetviz) (1.1.5)\n",
            "Requirement already satisfied: matplotlib>=3.1.3 in /usr/local/lib/python3.7/dist-packages (from sweetviz) (3.2.2)\n",
            "Requirement already satisfied: jinja2>=2.11.1 in /usr/local/lib/python3.7/dist-packages (from sweetviz) (2.11.3)\n",
            "Requirement already satisfied: zipp>=3.1.0; python_version < \"3.10\" in /usr/local/lib/python3.7/dist-packages (from importlib-resources>=1.2.0->sweetviz) (3.4.1)\n",
            "Requirement already satisfied: pytz>=2017.2 in /usr/local/lib/python3.7/dist-packages (from pandas!=1.0.0,!=1.0.1,!=1.0.2,>=0.25.3->sweetviz) (2018.9)\n",
            "Requirement already satisfied: python-dateutil>=2.7.3 in /usr/local/lib/python3.7/dist-packages (from pandas!=1.0.0,!=1.0.1,!=1.0.2,>=0.25.3->sweetviz) (2.8.1)\n",
            "Requirement already satisfied: cycler>=0.10 in /usr/local/lib/python3.7/dist-packages (from matplotlib>=3.1.3->sweetviz) (0.10.0)\n",
            "Requirement already satisfied: kiwisolver>=1.0.1 in /usr/local/lib/python3.7/dist-packages (from matplotlib>=3.1.3->sweetviz) (1.3.1)\n",
            "Requirement already satisfied: pyparsing!=2.0.4,!=2.1.2,!=2.1.6,>=2.0.1 in /usr/local/lib/python3.7/dist-packages (from matplotlib>=3.1.3->sweetviz) (2.4.7)\n",
            "Requirement already satisfied: MarkupSafe>=0.23 in /usr/local/lib/python3.7/dist-packages (from jinja2>=2.11.1->sweetviz) (2.0.1)\n",
            "Requirement already satisfied: six>=1.5 in /usr/local/lib/python3.7/dist-packages (from python-dateutil>=2.7.3->pandas!=1.0.0,!=1.0.1,!=1.0.2,>=0.25.3->sweetviz) (1.15.0)\n"
          ],
          "name": "stdout"
        }
      ]
    },
    {
      "cell_type": "code",
      "metadata": {
        "id": "vzDUd95NaLDU"
      },
      "source": [
        "#  Importamos la libreria de Sweetviz\n",
        "import sweetviz as sv"
      ],
      "execution_count": 275,
      "outputs": []
    },
    {
      "cell_type": "code",
      "metadata": {
        "colab": {
          "base_uri": "https://localhost:8080/",
          "height": 65,
          "referenced_widgets": [
            "b594bb2fe12c4601805e3a867278c9bc",
            "1e7f0faa226b4656af2e50992d1b5d10",
            "76115589b0f147b1b27f7375e2d8fa6a",
            "aa90ce2ecd0f4ac88cdea5d55f828338",
            "86cba7ec79534bd6b13c47b1bf9a535c",
            "aa44758ef08645b08152d7817392872c",
            "1f642ccf5a3f463da2e26d42721a0425",
            "e352e4f48d6c4db6b4d131dd206a1ffc",
            "56f560f93e854a49b10f8a1e711606ff",
            "655e88ef42d14ecba783c020489fed45",
            "50db44f35c3e4119acbdc1cdca961240"
          ]
        },
        "id": "ozPNFwTqaTmM",
        "outputId": "b640ef61-9fec-462f-b7fc-f7f7e07c10a3"
      },
      "source": [
        "#EDA using Autoviz\n",
        "sweet_report = sv.analyze(pd.read_csv(\"https://raw.githubusercontent.com/Banti12/Proyecto-Final-Mineria/main/heart_completo.csv\"))\n",
        "\n",
        "#Saving results to HTML file\n",
        "sweet_report.show_html('sweet_report.html')"
      ],
      "execution_count": 276,
      "outputs": [
        {
          "output_type": "display_data",
          "data": {
            "application/vnd.jupyter.widget-view+json": {
              "model_id": "b594bb2fe12c4601805e3a867278c9bc",
              "version_minor": 0,
              "version_major": 2
            },
            "text/plain": [
              "                                             |          | [  0%]   00:00 -> (? left)"
            ]
          },
          "metadata": {
            "tags": []
          }
        },
        {
          "output_type": "stream",
          "text": [
            "Report sweet_report.html was generated! NOTEBOOK/COLAB USERS: the web browser MAY not pop up, regardless, the report IS saved in your notebook/colab files.\n"
          ],
          "name": "stdout"
        }
      ]
    },
    {
      "cell_type": "markdown",
      "metadata": {
        "id": "kU7mEt-x58IZ"
      },
      "source": [
        "##Evaluación de los modelos"
      ]
    },
    {
      "cell_type": "code",
      "metadata": {
        "id": "MIjJJyVZfKm4"
      },
      "source": [
        "target=df['output']\n",
        "dn=df.drop('output',axis=1)"
      ],
      "execution_count": 277,
      "outputs": []
    },
    {
      "cell_type": "code",
      "metadata": {
        "colab": {
          "base_uri": "https://localhost:8080/",
          "height": 0
        },
        "id": "0W4cMdN3fOaq",
        "outputId": "d90415d5-be50-4a13-b76c-105417eda4c2"
      },
      "source": [
        "#Dividir matrices o matrices en subconjuntos de prueba y tren aleatorio\n",
        "from sklearn.model_selection import train_test_split\n",
        "#Dividir los datos en 25% para testeo y el 75% para entrenamiento\n",
        "X_train, X_test, y_train, y_test = train_test_split(dn, target, test_size = 0.25, random_state = 0) \n",
        "#((testeo)(entrenamiento))\n",
        "print(\"El conjunto de datos tiene: 1056\")\n",
        "print(\"Datos que ocuparemos para testeo: \",  X_test.shape[0])\n",
        "print(\"Datos que ocuparemos para entrenamiento: \", X_test.shape[0])"
      ],
      "execution_count": 278,
      "outputs": [
        {
          "output_type": "stream",
          "text": [
            "El conjunto de datos tiene: 1056\n",
            "Datos que ocuparemos para testeo:  264\n",
            "Datos que ocuparemos para entrenamiento:  264\n"
          ],
          "name": "stdout"
        }
      ]
    },
    {
      "cell_type": "code",
      "metadata": {
        "id": "Fy_aMbKLfUcr"
      },
      "source": [
        "#Se estabdarizan las características eliminando la media y escalando a la varianza de la unidad.\n",
        "from sklearn.preprocessing import StandardScaler\n",
        "# La estandarización de un conjunto de datos es un requisito común para muchos estimadores de aprendizaje automático\n",
        "sc = StandardScaler()\n",
        "X_train = sc.fit_transform(X_train) \n",
        "X_test = sc.transform(X_test)"
      ],
      "execution_count": 279,
      "outputs": []
    },
    {
      "cell_type": "markdown",
      "metadata": {
        "id": "oQUw_OFNfhZ4"
      },
      "source": [
        "### Regresión logística"
      ]
    },
    {
      "cell_type": "code",
      "metadata": {
        "colab": {
          "base_uri": "https://localhost:8080/",
          "height": 0
        },
        "id": "2785hg-Kfrtv",
        "outputId": "fac48dca-732c-4624-afe0-c2ba3db50767"
      },
      "source": [
        "#https://scikit-learn.org/stable/modules/generated/sklearn.linear_model.LogisticRegression.html\n",
        "from sklearn.linear_model import LogisticRegression\n",
        "model = LogisticRegression()\n",
        "model.fit(X_train, y_train)\n",
        "model_score_train = model.score(X_train, y_train)\n",
        "print(\"Training score: \",model_score_train)\n",
        "model_score_test = model.score(X_test, y_test)\n",
        "print(\"Testing score: \",model_score_test)"
      ],
      "execution_count": 280,
      "outputs": [
        {
          "output_type": "stream",
          "text": [
            "Training score:  0.6881313131313131\n",
            "Testing score:  0.6704545454545454\n"
          ],
          "name": "stdout"
        }
      ]
    },
    {
      "cell_type": "code",
      "metadata": {
        "colab": {
          "base_uri": "https://localhost:8080/",
          "height": 0
        },
        "id": "vxRMEpPcgOML",
        "outputId": "d5c6f6d6-163c-4b77-a8ef-3cd52b52a5cd"
      },
      "source": [
        "#precisión del modelo.\n",
        "from sklearn import metrics\n",
        "y_pred = model.predict(X_test)\n",
        "print('Precisión: ',metrics.accuracy_score(y_test, y_pred))"
      ],
      "execution_count": 281,
      "outputs": [
        {
          "output_type": "stream",
          "text": [
            "Precisión:  0.6704545454545454\n"
          ],
          "name": "stdout"
        }
      ]
    },
    {
      "cell_type": "code",
      "metadata": {
        "colab": {
          "base_uri": "https://localhost:8080/",
          "height": 378
        },
        "id": "VE_FkI8fgRMU",
        "outputId": "d8d50f0b-c7db-4248-f270-d49300026089"
      },
      "source": [
        "#Libreria Matriz de confusión.\n",
        "from sklearn.metrics import confusion_matrix \n",
        "import seaborn as sn\n",
        "#matriz de confusión es una herramienta que permite la visualización del desempeño de un algoritmo.\n",
        "cm = pd.DataFrame(confusion_matrix(y_test, y_pred))\n",
        "sn.heatmap(cm, annot=True, annot_kws={\"size\": 12}, linewidths=.5, cmap=\"YlGnBu\")"
      ],
      "execution_count": 282,
      "outputs": [
        {
          "output_type": "execute_result",
          "data": {
            "text/plain": [
              "<matplotlib.axes._subplots.AxesSubplot at 0x7fa2a2478a10>"
            ]
          },
          "metadata": {
            "tags": []
          },
          "execution_count": 282
        },
        {
          "output_type": "display_data",
          "data": {
            "image/png": "[encoded data removed]",
            "text/plain": [
              "<Figure size 600x400 with 2 Axes>"
            ]
          },
          "metadata": {
            "tags": []
          }
        }
      ]
    },
    {
      "cell_type": "markdown",
      "metadata": {
        "id": "vmHPAgv5ckbQ"
      },
      "source": [
        "La grafica nos indica que tenemos:\n",
        "\n",
        "*   77 personas en VN (fuera de peligro).\n",
        "*   47 peronas en FP (Resultado indica estar en peligro cuando en realidad no esta en peligro).\n",
        "*   40 personas en FN (Resultado indica fuera de peligro cuando en realidad si esta en peligro).\n",
        "*   102 personas en VP (En peligro).\n",
        "\n"
      ]
    },
    {
      "cell_type": "markdown",
      "metadata": {
        "id": "39qdHSKWgzE6"
      },
      "source": [
        "### KNN"
      ]
    },
    {
      "cell_type": "code",
      "metadata": {
        "colab": {
          "base_uri": "https://localhost:8080/",
          "height": 0
        },
        "id": "PbvGjaDag2h8",
        "outputId": "39e10702-2679-4590-839d-1fa9b10f7da3"
      },
      "source": [
        "#https://scikit-learn.org/stable/modules/generated/sklearn.neighbors.KNeighborsClassifier.html\n",
        "from sklearn.neighbors import KNeighborsClassifier\n",
        "knn = KNeighborsClassifier()\n",
        "knn.fit(X_train, y_train)\n",
        "knn_score_train = knn.score(X_train, y_train)\n",
        "print(\"Training score: \",knn_score_train)\n",
        "knn_score_test = knn.score(X_test, y_test)\n",
        "print(\"Testing score: \",knn_score_test)"
      ],
      "execution_count": 283,
      "outputs": [
        {
          "output_type": "stream",
          "text": [
            "Training score:  0.8131313131313131\n",
            "Testing score:  0.6515151515151515\n"
          ],
          "name": "stdout"
        }
      ]
    },
    {
      "cell_type": "code",
      "metadata": {
        "colab": {
          "base_uri": "https://localhost:8080/",
          "height": 0
        },
        "id": "pU-xzTllg5mx",
        "outputId": "70e6cbad-44c0-411e-f932-59e064607435"
      },
      "source": [
        "#precisión del modelo.\n",
        "y_pred=knn.predict(X_test)\n",
        "print(\"Precisión:\", metrics.accuracy_score(y_test, y_pred))"
      ],
      "execution_count": 284,
      "outputs": [
        {
          "output_type": "stream",
          "text": [
            "Precisión: 0.6515151515151515\n"
          ],
          "name": "stdout"
        }
      ]
    },
    {
      "cell_type": "code",
      "metadata": {
        "colab": {
          "base_uri": "https://localhost:8080/",
          "height": 373
        },
        "id": "95HhApTkg8i3",
        "outputId": "c0975934-addd-4e3b-8053-199f4b3a3c5f"
      },
      "source": [
        "#matriz de confusión es una herramienta que permite la visualización del desempeño de un algoritmo.\n",
        "cm = pd.DataFrame(confusion_matrix(y_test, y_pred))\n",
        "sn.heatmap(cm, annot=True, annot_kws={\"size\": 12}, linewidths=.5, cmap=\"YlGnBu\")"
      ],
      "execution_count": 285,
      "outputs": [
        {
          "output_type": "execute_result",
          "data": {
            "text/plain": [
              "<matplotlib.axes._subplots.AxesSubplot at 0x7fa2a0b34690>"
            ]
          },
          "metadata": {
            "tags": []
          },
          "execution_count": 285
        },
        {
          "output_type": "display_data",
          "data": {
            "image/png": "[encoded data removed]",
            "text/plain": [
              "<Figure size 600x400 with 2 Axes>"
            ]
          },
          "metadata": {
            "tags": []
          }
        }
      ]
    },
    {
      "cell_type": "markdown",
      "metadata": {
        "id": "pl87lilUhO9m"
      },
      "source": [
        "La grafica nos indica que tenemos:\n",
        "*   80 personas en VN (fuera de peligro).\n",
        "*   44 peronas en FP (Resultado indica estar en peligro cuando en realidad no esta en peligro).\n",
        "*   48 personas en FN (Resultado indica fuera de peligro cuando en realidad si esta en peligro).\n",
        "*   92 personas en VP (En peligro).\n"
      ]
    },
    {
      "cell_type": "markdown",
      "metadata": {
        "id": "nwOHqqtJgb37"
      },
      "source": [
        "### Bayes."
      ]
    },
    {
      "cell_type": "code",
      "metadata": {
        "colab": {
          "base_uri": "https://localhost:8080/",
          "height": 0
        },
        "id": "b01KrwJOgji6",
        "outputId": "59b0fe0b-7f8d-4140-b8ed-4fc21099e414"
      },
      "source": [
        "#https://scikit-learn.org/stable/modules/generated/sklearn.neighbors.KNeighborsClassifier.html\n",
        "from sklearn.naive_bayes import GaussianNB\n",
        "gnb = GaussianNB()\n",
        "gnb.fit(X_train, y_train)\n",
        "gnb_score_train = gnb.score(X_train, y_train)\n",
        "print(\"Training score: \",gnb_score_train)\n",
        "gnb_score_test = gnb.score(X_test, y_test)\n",
        "print(\"Testing score: \",gnb_score_test)"
      ],
      "execution_count": 286,
      "outputs": [
        {
          "output_type": "stream",
          "text": [
            "Training score:  0.6881313131313131\n",
            "Testing score:  0.6401515151515151\n"
          ],
          "name": "stdout"
        }
      ]
    },
    {
      "cell_type": "code",
      "metadata": {
        "colab": {
          "base_uri": "https://localhost:8080/",
          "height": 0
        },
        "id": "t7cxrF07gmuh",
        "outputId": "ae34a924-4b8d-45f4-c8d6-b84d374cc99b"
      },
      "source": [
        "#precisión del modelo.\n",
        "y_pred=gnb.predict(X_test)\n",
        "print(\"Precisión:\", metrics.accuracy_score(y_test, y_pred))"
      ],
      "execution_count": 287,
      "outputs": [
        {
          "output_type": "stream",
          "text": [
            "Precisión: 0.6401515151515151\n"
          ],
          "name": "stdout"
        }
      ]
    },
    {
      "cell_type": "code",
      "metadata": {
        "colab": {
          "base_uri": "https://localhost:8080/",
          "height": 373
        },
        "id": "r7nEERY-gqQv",
        "outputId": "9c97b9bd-d69d-45ef-ad43-7c841048ae6d"
      },
      "source": [
        "#matriz de confusión es una herramienta que permite la visualización del desempeño de un algoritmo.\n",
        "cm = pd.DataFrame(confusion_matrix(y_test, y_pred))\n",
        "sn.heatmap(cm, annot=True, annot_kws={\"size\": 12}, linewidths=.5, cmap=\"YlGnBu\")"
      ],
      "execution_count": 288,
      "outputs": [
        {
          "output_type": "execute_result",
          "data": {
            "text/plain": [
              "<matplotlib.axes._subplots.AxesSubplot at 0x7fa2a08f8c50>"
            ]
          },
          "metadata": {
            "tags": []
          },
          "execution_count": 288
        },
        {
          "output_type": "display_data",
          "data": {
            "image/png": "[encoded data removed]",
            "text/plain": [
              "<Figure size 600x400 with 2 Axes>"
            ]
          },
          "metadata": {
            "tags": []
          }
        }
      ]
    },
    {
      "cell_type": "markdown",
      "metadata": {
        "id": "6Bm9FyKwhYMO"
      },
      "source": [
        "La grafica nos indica que tenemos:\n",
        "*   85 personas en VN (fuera de peligro).\n",
        "*   39 peronas en FP (Resultado indica estar en peligro cuando en realidad no esta en peligro).\n",
        "*   56 personas en FN (Resultado indica fuera de peligro cuando en realidad si esta en peligro).\n",
        "*   84 personas en VP (En peligro).\n"
      ]
    },
    {
      "cell_type": "markdown",
      "metadata": {
        "id": "a2fs0qjphF9I"
      },
      "source": [
        "### Random Forest"
      ]
    },
    {
      "cell_type": "code",
      "metadata": {
        "colab": {
          "base_uri": "https://localhost:8080/",
          "height": 0
        },
        "id": "pozgWg9khJbH",
        "outputId": "93b188c8-2c2d-46af-fafd-5e8385a67668"
      },
      "source": [
        "#https://scikit-learn.org/stable/modules/generated/sklearn.ensemble.RandomForestClassifier.html\n",
        "from sklearn.ensemble import RandomForestClassifier\n",
        "rf = RandomForestClassifier()\n",
        "rf.fit(X_train, y_train)\n",
        "rf_score_train = rf.score(X_train, y_train)\n",
        "print(\"Training score: \",rf_score_train)\n",
        "rf_score_test = rf.score(X_test, y_test)\n",
        "print(\"Testing score: \",rf_score_test)"
      ],
      "execution_count": 289,
      "outputs": [
        {
          "output_type": "stream",
          "text": [
            "Training score:  1.0\n",
            "Testing score:  0.7386363636363636\n"
          ],
          "name": "stdout"
        }
      ]
    },
    {
      "cell_type": "code",
      "metadata": {
        "colab": {
          "base_uri": "https://localhost:8080/",
          "height": 0
        },
        "id": "ck6gpnhthMsf",
        "outputId": "cd1cd7cd-f1c4-4aa5-d814-2c3cab7cc370"
      },
      "source": [
        "#precisión del modelo.\n",
        "y_pred=rf.predict(X_test)\n",
        "print(\"Precisión:\", metrics.accuracy_score(y_test, y_pred))"
      ],
      "execution_count": 290,
      "outputs": [
        {
          "output_type": "stream",
          "text": [
            "Precisión: 0.7386363636363636\n"
          ],
          "name": "stdout"
        }
      ]
    },
    {
      "cell_type": "code",
      "metadata": {
        "colab": {
          "base_uri": "https://localhost:8080/",
          "height": 373
        },
        "id": "_L2tCiaphQCF",
        "outputId": "12c679d0-51ee-4940-d850-0f4dcb33fa66"
      },
      "source": [
        "#matriz de confusión es una herramienta que permite la visualización del desempeño de un algoritmo.\n",
        "cm = pd.DataFrame(confusion_matrix(y_test, y_pred))\n",
        "sn.heatmap(cm, annot=True, annot_kws={\"size\": 12}, linewidths=.5, cmap=\"YlGnBu\")"
      ],
      "execution_count": 291,
      "outputs": [
        {
          "output_type": "execute_result",
          "data": {
            "text/plain": [
              "<matplotlib.axes._subplots.AxesSubplot at 0x7fa2a0edb150>"
            ]
          },
          "metadata": {
            "tags": []
          },
          "execution_count": 291
        },
        {
          "output_type": "display_data",
          "data": {
            "image/png": "[encoded data removed]",
            "text/plain": [
              "<Figure size 600x400 with 2 Axes>"
            ]
          },
          "metadata": {
            "tags": []
          }
        }
      ]
    },
    {
      "cell_type": "markdown",
      "metadata": {
        "id": "XswWw2qXhezg"
      },
      "source": [
        "La grafica nos indica que tenemos:\n",
        "*   92 personas en VN (fuera de peligro).\n",
        "*   32 peronas en FP (Resultado indica estar en peligro cuando en realidad no esta en peligro).\n",
        "*   48 personas en FN (Resultado indica fuera de peligro cuando en realidad si esta en peligro).\n",
        "*   92 personas en VP (En peligro).\n"
      ]
    },
    {
      "cell_type": "markdown",
      "metadata": {
        "id": "-8tcn6376AmB"
      },
      "source": [
        "##Resultados"
      ]
    },
    {
      "cell_type": "code",
      "metadata": {
        "colab": {
          "base_uri": "https://localhost:8080/",
          "height": 170
        },
        "id": "h73oNPMbhWSJ",
        "outputId": "0b678906-9e7c-4cce-e673-f422f7e46614"
      },
      "source": [
        "models = pd.DataFrame({\n",
        "        'Model'          : ['Logistic Regression', 'kNN', 'Bayes', 'Random Forest'],\n",
        "        'Training_Score' : [model_score_train, knn_score_train, gnb_score_train, rf_score_train],\n",
        "        'Testing_Score'  : [model_score_test, knn_score_test, gnb_score_test, rf_score_test]\n",
        "    })\n",
        "models.sort_values(by='Testing_Score', ascending=True)"
      ],
      "execution_count": 292,
      "outputs": [
        {
          "output_type": "execute_result",
          "data": {
            "text/html": [
              "<div>\n",
              "<style scoped>\n",
              "    .dataframe tbody tr th:only-of-type {\n",
              "        vertical-align: middle;\n",
              "    }\n",
              "\n",
              "    .dataframe tbody tr th {\n",
              "        vertical-align: top;\n",
              "    }\n",
              "\n",
              "    .dataframe thead th {\n",
              "        text-align: right;\n",
              "    }\n",
              "</style>\n",
              "<table border=\"1\" class=\"dataframe\">\n",
              "  <thead>\n",
              "    <tr style=\"text-align: right;\">\n",
              "      <th></th>\n",
              "      <th>Model</th>\n",
              "      <th>Training_Score</th>\n",
              "      <th>Testing_Score</th>\n",
              "    </tr>\n",
              "  </thead>\n",
              "  <tbody>\n",
              "    <tr>\n",
              "      <th>2</th>\n",
              "      <td>Bayes</td>\n",
              "      <td>0.688131</td>\n",
              "      <td>0.640152</td>\n",
              "    </tr>\n",
              "    <tr>\n",
              "      <th>1</th>\n",
              "      <td>kNN</td>\n",
              "      <td>0.813131</td>\n",
              "      <td>0.651515</td>\n",
              "    </tr>\n",
              "    <tr>\n",
              "      <th>0</th>\n",
              "      <td>Logistic Regression</td>\n",
              "      <td>0.688131</td>\n",
              "      <td>0.670455</td>\n",
              "    </tr>\n",
              "    <tr>\n",
              "      <th>3</th>\n",
              "      <td>Random Forest</td>\n",
              "      <td>1.000000</td>\n",
              "      <td>0.738636</td>\n",
              "    </tr>\n",
              "  </tbody>\n",
              "</table>\n",
              "</div>"
            ],
            "text/plain": [
              "                 Model  Training_Score  Testing_Score\n",
              "2                Bayes        0.688131       0.640152\n",
              "1                  kNN        0.813131       0.651515\n",
              "0  Logistic Regression        0.688131       0.670455\n",
              "3        Random Forest        1.000000       0.738636"
            ]
          },
          "metadata": {
            "tags": []
          },
          "execution_count": 292
        }
      ]
    },
    {
      "cell_type": "code",
      "metadata": {
        "id": "jTATZ_V2haOk",
        "colab": {
          "base_uri": "https://localhost:8080/",
          "height": 393
        },
        "outputId": "5d31b628-cf3b-4dba-a8de-48d8abf21f46"
      },
      "source": [
        "import seaborn as sns\n",
        "sns.color_palette(\"husl\", 8)\n",
        "sns.barplot(y='Model',data=models, x='Testing_Score',palette=\"Blues_d\")"
      ],
      "execution_count": 293,
      "outputs": [
        {
          "output_type": "execute_result",
          "data": {
            "text/plain": [
              "<matplotlib.axes._subplots.AxesSubplot at 0x7fa2a10b0cd0>"
            ]
          },
          "metadata": {
            "tags": []
          },
          "execution_count": 293
        },
        {
          "output_type": "display_data",
          "data": {
            "image/png": "[encoded data removed]",
            "text/plain": [
              "<Figure size 600x400 with 1 Axes>"
            ]
          },
          "metadata": {
            "tags": []
          }
        }
      ]
    },
    {
      "cell_type": "markdown",
      "metadata": {
        "id": "bzLIe_ty6E1S"
      },
      "source": [
        "## Conclusión y discusión"
      ]
    },
    {
      "cell_type": "markdown",
      "metadata": {
        "id": "3N9ccg2ujUjg"
      },
      "source": [
        "**Después de interpretar los resultados obtenidos, los comparamos para decidir qué  modelo clasificaba mejor, de los cuatro modelos,  concluimos que random forest fue el que mejor presición tuvo para este conjunto de datos.**"
      ]
    },
    {
      "cell_type": "code",
      "metadata": {
        "id": "oLSxahkgttwv"
      },
      "source": [
        ""
      ],
      "execution_count": null,
      "outputs": []
    }
  ]
}